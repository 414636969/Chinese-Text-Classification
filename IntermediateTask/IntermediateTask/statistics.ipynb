{
 "cells": [
  {
   "cell_type": "code",
   "execution_count": 13,
   "id": "7724a409-2696-4427-998f-3a54e580b889",
   "metadata": {},
   "outputs": [],
   "source": [
    "import pandas as pd"
   ]
  },
  {
   "cell_type": "code",
   "execution_count": 14,
   "id": "f3a06727-b547-4e1a-bade-081d9114bccf",
   "metadata": {},
   "outputs": [
    {
     "name": "stdout",
     "output_type": "stream",
     "text": [
      "train.news.csv\n",
      "#real\t#fake\t#total\n",
      "7844 2743 10587\n"
     ]
    }
   ],
   "source": [
    "data=pd.read_csv('./data/train.news.csv',encoding='utf-8')\n",
    "print(\"train.news.csv\")\n",
    "print(\"#real\t#fake\t#total\")\n",
    "print(len(data[data.label==0]),len(data[data.label==1]),len(data))"
   ]
  },
  {
   "cell_type": "code",
   "execution_count": 15,
   "id": "80eaee88-07b0-4a3e-a0b5-124a0c9e4741",
   "metadata": {},
   "outputs": [
    {
     "name": "stdout",
     "output_type": "stream",
     "text": [
      "test.news.csv\n",
      "#real\t#fake\t#total\n",
      "8659 1482 10141\n"
     ]
    }
   ],
   "source": [
    "data=pd.read_csv('./data/test.news.csv',encoding='utf-8')\n",
    "print(\"test.news.csv\")\n",
    "print(\"#real\t#fake\t#total\")\n",
    "print(len(data[data.label==0]),len(data[data.label==1]),len(data))"
   ]
  }
 ],
 "metadata": {
  "kernelspec": {
   "display_name": "Python 3 (ipykernel)",
   "language": "python",
   "name": "python3"
  },
  "language_info": {
   "codemirror_mode": {
    "name": "ipython",
    "version": 3
   },
   "file_extension": ".py",
   "mimetype": "text/x-python",
   "name": "python",
   "nbconvert_exporter": "python",
   "pygments_lexer": "ipython3",
   "version": "3.7.13"
  }
 },
 "nbformat": 4,
 "nbformat_minor": 5
}
